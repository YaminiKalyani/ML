{
  "nbformat": 4,
  "nbformat_minor": 0,
  "metadata": {
    "colab": {
      "name": "training_DNNs.ipynb",
      "provenance": [],
      "collapsed_sections": []
    },
    "kernelspec": {
      "name": "python3",
      "display_name": "Python 3"
    },
    "accelerator": "GPU"
  },
  "cells": [
    {
      "cell_type": "markdown",
      "metadata": {
        "id": "aggMn8lOWSkn"
      },
      "source": [
        "Last modified: Oct 2020\n",
        "\n",
        "Author: Miguel V. Martin for ML course, based on Geron"
      ]
    },
    {
      "cell_type": "markdown",
      "metadata": {
        "id": "zqJdOmfqTQ-i"
      },
      "source": [
        "We will use our usual attributes_vs_salary dataset. This is a very shallow dataset but we only use it to illustrate concepts"
      ]
    },
    {
      "cell_type": "code",
      "metadata": {
        "id": "gKy1MGu9yNnM",
        "outputId": "373e6f3b-ff4b-4ab2-cf19-77a418f93126",
        "colab": {
          "base_uri": "https://localhost:8080/",
          "height": 204
        }
      },
      "source": [
        "import pandas as pd\n",
        "url = 'https://raw.githubusercontent.com/miguevmartin/INFR3700/master/attributes_vs_salary.dat'\n",
        "sal_data = pd.read_csv(url)\n",
        "#sal_data[\"Hobby_cat\"] = sal_data[\"Hobby\"].astype('category')\n",
        "#sal_data.drop('Hobby') OR:\n",
        "sal_data['Hobby'].value_counts()"
      ],
      "execution_count": 154,
      "outputs": [
        {
          "output_type": "execute_result",
          "data": {
            "text/plain": [
              "running      18\n",
              "tv            7\n",
              "cycling       7\n",
              "handcraft     7\n",
              "reading       3\n",
              "writing       2\n",
              "cooking       2\n",
              "biking        2\n",
              "soccer        1\n",
              "swimming      1\n",
              "Name: Hobby, dtype: int64"
            ]
          },
          "metadata": {
            "tags": []
          },
          "execution_count": 154
        }
      ]
    },
    {
      "cell_type": "markdown",
      "metadata": {
        "id": "_RVaz9DmTukn"
      },
      "source": [
        "We will predict the hobby, which is categorical, se we need to convert it to numerical values"
      ]
    },
    {
      "cell_type": "code",
      "metadata": {
        "id": "fOxI8acaCQ89",
        "outputId": "620e193c-012d-4ee2-fd6c-92dac44dbb8d",
        "colab": {
          "base_uri": "https://localhost:8080/",
          "height": 204
        }
      },
      "source": [
        "hobby_codes = {'Hobby': {\"running\": 0, \"cycling\": 1, \"handcraft\": 2, \"tv\": 3, \"reading\": 4, \n",
        "                         \"writing\": 5, \"cooking\": 6, \"biking\": 7, \"swimming\": 8, \"soccer\": 9}}\n",
        "sal_data.replace(hobby_codes, inplace=True)\n",
        "sal_data.head()"
      ],
      "execution_count": 155,
      "outputs": [
        {
          "output_type": "execute_result",
          "data": {
            "text/html": [
              "<div>\n",
              "<style scoped>\n",
              "    .dataframe tbody tr th:only-of-type {\n",
              "        vertical-align: middle;\n",
              "    }\n",
              "\n",
              "    .dataframe tbody tr th {\n",
              "        vertical-align: top;\n",
              "    }\n",
              "\n",
              "    .dataframe thead th {\n",
              "        text-align: right;\n",
              "    }\n",
              "</style>\n",
              "<table border=\"1\" class=\"dataframe\">\n",
              "  <thead>\n",
              "    <tr style=\"text-align: right;\">\n",
              "      <th></th>\n",
              "      <th>Person</th>\n",
              "      <th>Years of education</th>\n",
              "      <th>Age</th>\n",
              "      <th>Years of experience</th>\n",
              "      <th>GPA</th>\n",
              "      <th>Hobby</th>\n",
              "      <th>Income ($K/year)</th>\n",
              "    </tr>\n",
              "  </thead>\n",
              "  <tbody>\n",
              "    <tr>\n",
              "      <th>0</th>\n",
              "      <td>1</td>\n",
              "      <td>16</td>\n",
              "      <td>35.0</td>\n",
              "      <td>8</td>\n",
              "      <td>3.50</td>\n",
              "      <td>9</td>\n",
              "      <td>101</td>\n",
              "    </tr>\n",
              "    <tr>\n",
              "      <th>1</th>\n",
              "      <td>2</td>\n",
              "      <td>24</td>\n",
              "      <td>38.0</td>\n",
              "      <td>10</td>\n",
              "      <td>2.80</td>\n",
              "      <td>7</td>\n",
              "      <td>126</td>\n",
              "    </tr>\n",
              "    <tr>\n",
              "      <th>2</th>\n",
              "      <td>3</td>\n",
              "      <td>23</td>\n",
              "      <td>45.0</td>\n",
              "      <td>16</td>\n",
              "      <td>3.00</td>\n",
              "      <td>4</td>\n",
              "      <td>180</td>\n",
              "    </tr>\n",
              "    <tr>\n",
              "      <th>3</th>\n",
              "      <td>4</td>\n",
              "      <td>17</td>\n",
              "      <td>27.0</td>\n",
              "      <td>2</td>\n",
              "      <td>4.00</td>\n",
              "      <td>6</td>\n",
              "      <td>61</td>\n",
              "    </tr>\n",
              "    <tr>\n",
              "      <th>4</th>\n",
              "      <td>5</td>\n",
              "      <td>0</td>\n",
              "      <td>22.0</td>\n",
              "      <td>15</td>\n",
              "      <td>1.98</td>\n",
              "      <td>5</td>\n",
              "      <td>60</td>\n",
              "    </tr>\n",
              "  </tbody>\n",
              "</table>\n",
              "</div>"
            ],
            "text/plain": [
              "   Person  Years of education   Age  ...   GPA  Hobby  Income ($K/year)\n",
              "0       1                  16  35.0  ...  3.50      9               101\n",
              "1       2                  24  38.0  ...  2.80      7               126\n",
              "2       3                  23  45.0  ...  3.00      4               180\n",
              "3       4                  17  27.0  ...  4.00      6                61\n",
              "4       5                   0  22.0  ...  1.98      5                60\n",
              "\n",
              "[5 rows x 7 columns]"
            ]
          },
          "metadata": {
            "tags": []
          },
          "execution_count": 155
        }
      ]
    },
    {
      "cell_type": "markdown",
      "metadata": {
        "id": "7jlqAMioT8yD"
      },
      "source": [
        "Next, we apply our usual split but this time we do a 50/50 split to match the size of the training set with the validation set"
      ]
    },
    {
      "cell_type": "code",
      "metadata": {
        "id": "cRFPZduT1YRD"
      },
      "source": [
        "from sklearn.model_selection import train_test_split\n",
        "train, test = train_test_split(sal_data, test_size=0.5)#, random_state=42)\n",
        "train_labels = train.iloc[:,-1]\n",
        "train_data = train.drop(['Person','Hobby'], axis=1)\n",
        "test_labels = test.iloc[:,-1]\n",
        "test_data = test.drop(['Person','Hobby'], axis=1)\n",
        "# For multiclass classification, we will use 'Hobby' as the target\n",
        "train_labels_mc = train['Hobby']\n",
        "test_labels_mc = test['Hobby']"
      ],
      "execution_count": 156,
      "outputs": []
    },
    {
      "cell_type": "markdown",
      "metadata": {
        "id": "b8Ud3XeaUUI8"
      },
      "source": [
        "Scale as usual:"
      ]
    },
    {
      "cell_type": "code",
      "metadata": {
        "id": "Lpysp3uV2IUJ"
      },
      "source": [
        "from sklearn.preprocessing import StandardScaler\n",
        "scaler=StandardScaler()\n",
        "train_data = scaler.fit_transform(train_data)\n",
        "test_data = scaler.transform(train_data)"
      ],
      "execution_count": 157,
      "outputs": []
    },
    {
      "cell_type": "markdown",
      "metadata": {
        "id": "TKAmdxEOUZ2V"
      },
      "source": [
        "Let's see the versions available in Colab"
      ]
    },
    {
      "cell_type": "code",
      "metadata": {
        "id": "lzw-ImI49Ot8",
        "outputId": "30bcaacd-5415-4bd9-c8aa-db0e15349d71",
        "colab": {
          "base_uri": "https://localhost:8080/",
          "height": 34
        }
      },
      "source": [
        "import tensorflow as tf\n",
        "from tensorflow import keras\n",
        "print('tf version:',tf.__version__, 'keras version:',keras.__version__)"
      ],
      "execution_count": 158,
      "outputs": [
        {
          "output_type": "stream",
          "text": [
            "tf version: 2.3.0 keras version: 2.4.0\n"
          ],
          "name": "stdout"
        }
      ]
    },
    {
      "cell_type": "markdown",
      "metadata": {
        "id": "-UE4_q_lPkxv"
      },
      "source": [
        "Available activations in Keras:"
      ]
    },
    {
      "cell_type": "code",
      "metadata": {
        "id": "iPB34oENPBlh"
      },
      "source": [
        "#[name for name in dir(keras.activations) if not name.startswith(\"_\")]"
      ],
      "execution_count": 159,
      "outputs": []
    },
    {
      "cell_type": "markdown",
      "metadata": {
        "id": "-pjofaRSUhJY"
      },
      "source": [
        "Then we create a fully connected neural network"
      ]
    },
    {
      "cell_type": "code",
      "metadata": {
        "id": "Y0AEmups-G7D"
      },
      "source": [
        "model = keras.models.Sequential([\n",
        "keras.layers.Flatten(input_shape=[5]),\n",
        "keras.layers.BatchNormalization(),\n",
        "keras.layers.Dense(300, activation=\"relu\", kernel_initializer=\"HeNormal\"),\n",
        "keras.layers.Dense(100, activation=\"elu\"),\n",
        "keras.layers.Dropout(rate=0.5),\n",
        "keras.layers.Dense(10, activation=\"softmax\")\n",
        "])"
      ],
      "execution_count": 160,
      "outputs": []
    },
    {
      "cell_type": "markdown",
      "metadata": {
        "id": "6fH3mREhPp1M"
      },
      "source": [
        "Available initializers in Keras:"
      ]
    },
    {
      "cell_type": "code",
      "metadata": {
        "id": "L-Xz0qYJJT3S"
      },
      "source": [
        "#[name for name in dir(keras.initializers) if not name.startswith(\"_\")]"
      ],
      "execution_count": 161,
      "outputs": []
    },
    {
      "cell_type": "markdown",
      "metadata": {
        "id": "SwUXf8s0cIzU"
      },
      "source": [
        "Visualize the model:"
      ]
    },
    {
      "cell_type": "code",
      "metadata": {
        "id": "L2EpCjkbblWd",
        "outputId": "b4f8a7c9-15e0-4cd2-d035-f84c59433196",
        "colab": {
          "base_uri": "https://localhost:8080/",
          "height": 357
        }
      },
      "source": [
        "model.summary()"
      ],
      "execution_count": 162,
      "outputs": [
        {
          "output_type": "stream",
          "text": [
            "Model: \"sequential_11\"\n",
            "_________________________________________________________________\n",
            "Layer (type)                 Output Shape              Param #   \n",
            "=================================================================\n",
            "flatten_11 (Flatten)         (None, 5)                 0         \n",
            "_________________________________________________________________\n",
            "batch_normalization_10 (Batc (None, 5)                 20        \n",
            "_________________________________________________________________\n",
            "dense_33 (Dense)             (None, 300)               1800      \n",
            "_________________________________________________________________\n",
            "dense_34 (Dense)             (None, 100)               30100     \n",
            "_________________________________________________________________\n",
            "dropout_3 (Dropout)          (None, 100)               0         \n",
            "_________________________________________________________________\n",
            "dense_35 (Dense)             (None, 10)                1010      \n",
            "=================================================================\n",
            "Total params: 32,930\n",
            "Trainable params: 32,920\n",
            "Non-trainable params: 10\n",
            "_________________________________________________________________\n"
          ],
          "name": "stdout"
        }
      ]
    },
    {
      "cell_type": "code",
      "metadata": {
        "id": "r5nPKmInb0o_",
        "outputId": "93b9a704-9885-40fb-9ad5-4d1aa6faa58d",
        "colab": {
          "base_uri": "https://localhost:8080/",
          "height": 754
        }
      },
      "source": [
        "keras.utils.plot_model(model, \"attributes_vs_salary_model.png\", show_shapes=True) # Try rankdir = 'LR'"
      ],
      "execution_count": 163,
      "outputs": [
        {
          "output_type": "execute_result",
          "data": {
            "image/png": "[encoded data removed]",
            "text/plain": [
              "<IPython.core.display.Image object>"
            ]
          },
          "metadata": {
            "tags": []
          },
          "execution_count": 163
        }
      ]
    },
    {
      "cell_type": "markdown",
      "metadata": {
        "id": "XzjUDcE2Up2i"
      },
      "source": [
        "And then establish loss, optimizer, and metric, but modify parameters for better performance of deep nets"
      ]
    },
    {
      "cell_type": "code",
      "metadata": {
        "id": "rmJrMqBI-hHh"
      },
      "source": [
        "import keras.optimizers\n",
        "#opt = keras.optimizers.RMSprop(learning_rate=0.01,\n",
        "#    rho=0.09,\n",
        "#    momentum=0.1,\n",
        "#    epsilon=1e-07)\n",
        "opt = keras.optimizers.Nadam(learning_rate=0.1, beta_1=0.9, beta_2=0.999, epsilon=1e-07)\n",
        "model.compile(loss=\"sparse_categorical_crossentropy\",\n",
        "optimizer=opt,\n",
        "metrics=[\"accuracy\"])"
      ],
      "execution_count": 164,
      "outputs": []
    },
    {
      "cell_type": "markdown",
      "metadata": {
        "id": "X1pBbAWWU2fA"
      },
      "source": [
        "We will use the history object to create a graph"
      ]
    },
    {
      "cell_type": "code",
      "metadata": {
        "id": "TBoJLG-V-nG0"
      },
      "source": [
        "history = model.fit(train_data, train_labels_mc, epochs=10, validation_data=(test_data, test_labels_mc), verbose=0)# Turn verbose=1 to printing epochs"
      ],
      "execution_count": 165,
      "outputs": []
    },
    {
      "cell_type": "code",
      "metadata": {
        "id": "zarzE5toFNO9",
        "outputId": "fab1cb1b-e702-46e7-abd4-4258fa8e3fbc",
        "colab": {
          "base_uri": "https://localhost:8080/",
          "height": 324
        }
      },
      "source": [
        "import matplotlib.pyplot as plt\n",
        "pd.DataFrame(history.history).plot(figsize=(8, 5))\n",
        "plt.grid(True)\n",
        "plt.gca().set_ylim(0, 10)\n",
        "plt.show()"
      ],
      "execution_count": 166,
      "outputs": [
        {
          "output_type": "display_data",
          "data": {
            "image/png": "[encoded data removed]",
            "text/plain": [
              "<Figure size 576x360 with 1 Axes>"
            ]
          },
          "metadata": {
            "tags": [],
            "needs_background": "light"
          }
        }
      ]
    }
  ]
}